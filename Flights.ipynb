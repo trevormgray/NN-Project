{
 "cells": [
  {
   "cell_type": "markdown",
   "metadata": {},
   "source": [
    "# Talk about Framing and outlining the problem (Business problem and specifics)\n",
    "# Talk about data"
   ]
  },
  {
   "cell_type": "markdown",
   "metadata": {},
   "source": [
    "# Will it be delayed?\n",
    "\n",
    "Everyone who has flown has experienced a delayed or cancelled flight. Both airlines and airports would like to improve their on-time performance and predict when a flight will be delayed or cancelled several days in advance. You are being hired to build a model that can predict if a flight will be delayed. To learn more, you must schedule a meeting with your client (me). To schedule an appointment with your client, send an event request through Google Calendar for a 15 minute meeting. Both you and your project partner must attend the meeting. Come prepared with questions to ask your client. Remember that your client is not a data scientist and you will need to explain things in a way that is easy to understand. Make sure that your communications are efficient, thought out, and not redundant as your client might get frustrated and \"fire\" you (this only applies to getting information from your client, this does not necessary apply to asking for help with the actual project itself - you should continuously ask questions for getting help).\n",
    "\n",
    "For this project you must go through most all steps in the checklist. You must write responses for all items as done in the homeworks, however sometimes the item will simply be \"does not apply\". Keep your progress and thoughts organized in this document and use formatting as appropriate (using markdown to add headers and sub-headers for each major part). Some changes to the checklist:\n",
    "\n",
    "* Do not do the final part (launching the product).\n",
    "* Your presentation will be done as information written in this document in a dedicated section (no slides or anything like that). It should include high-level summary of your results (including what you learned about the data, the \"accuracy\" of your model, what features were important, etc). It should be written for your client, not your professor or teammates. It should include the best summary plots/graphics/data points.\n",
    "* The models and hyperparameters you should consider during short-listing and fine-tuning will be released at a later time (dependent on how far we get over the next two weeks).\n",
    "* Data retrieval must be automatic as part of the code (so it can easily be re-run and grab the latest data). Do not commit any data to the repository.\n",
    "* Your submission must include a pickled final model along with this notebook.\n"
   ]
  },
  {
   "cell_type": "markdown",
   "metadata": {},
   "source": [
    "# Notes\n",
    "\n",
    "* gov agency tasked with improving efficiency with comercial airtraffic from consumer standpoint, \n",
    "* predict delays and errors 7 days in advanced\n",
    "* data is from the 80s, subitted take off, supposed to leave, etc, on BTS (get a link) only look at 2023 and 2024\n",
    "* less predictions but more accurate predictions by a 1/4\n",
    "* National Air System (group that runs opperations at a single airport, makes all decisions so something they do can cause a run down, weather issues, security (TSA, bad person on deck), late arrival, cancelations,  ) broken down into minor, medium, major categories\n",
    "* Things to ignore in data, diverted, international destination or arrival (only USA to USA)"
   ]
  },
  {
   "cell_type": "code",
   "execution_count": 1,
   "metadata": {},
   "outputs": [
    {
     "name": "stdout",
     "output_type": "stream",
     "text": [
      "Requirement already satisfied: numpy in ./.venv/lib/python3.13/site-packages (2.2.4)\n",
      "Requirement already satisfied: scipy in ./.venv/lib/python3.13/site-packages (1.15.2)\n",
      "Requirement already satisfied: pandas in ./.venv/lib/python3.13/site-packages (2.2.3)\n",
      "Requirement already satisfied: matplotlib in ./.venv/lib/python3.13/site-packages (3.10.1)\n",
      "Requirement already satisfied: scikit-learn in ./.venv/lib/python3.13/site-packages (1.6.1)\n",
      "Requirement already satisfied: pyarrow in ./.venv/lib/python3.13/site-packages (19.0.1)\n",
      "Requirement already satisfied: fastparquet in ./.venv/lib/python3.13/site-packages (2024.11.0)\n",
      "Requirement already satisfied: seaborn in ./.venv/lib/python3.13/site-packages (0.13.2)\n",
      "Requirement already satisfied: python-dateutil>=2.8.2 in ./.venv/lib/python3.13/site-packages (from pandas) (2.9.0.post0)\n",
      "Requirement already satisfied: pytz>=2020.1 in ./.venv/lib/python3.13/site-packages (from pandas) (2025.1)\n",
      "Requirement already satisfied: tzdata>=2022.7 in ./.venv/lib/python3.13/site-packages (from pandas) (2025.1)\n",
      "Requirement already satisfied: contourpy>=1.0.1 in ./.venv/lib/python3.13/site-packages (from matplotlib) (1.3.1)\n",
      "Requirement already satisfied: cycler>=0.10 in ./.venv/lib/python3.13/site-packages (from matplotlib) (0.12.1)\n",
      "Requirement already satisfied: fonttools>=4.22.0 in ./.venv/lib/python3.13/site-packages (from matplotlib) (4.56.0)\n",
      "Requirement already satisfied: kiwisolver>=1.3.1 in ./.venv/lib/python3.13/site-packages (from matplotlib) (1.4.8)\n",
      "Requirement already satisfied: packaging>=20.0 in ./.venv/lib/python3.13/site-packages (from matplotlib) (24.2)\n",
      "Requirement already satisfied: pillow>=8 in ./.venv/lib/python3.13/site-packages (from matplotlib) (11.1.0)\n",
      "Requirement already satisfied: pyparsing>=2.3.1 in ./.venv/lib/python3.13/site-packages (from matplotlib) (3.2.1)\n",
      "Requirement already satisfied: joblib>=1.2.0 in ./.venv/lib/python3.13/site-packages (from scikit-learn) (1.4.2)\n",
      "Requirement already satisfied: threadpoolctl>=3.1.0 in ./.venv/lib/python3.13/site-packages (from scikit-learn) (3.6.0)\n",
      "Requirement already satisfied: cramjam>=2.3 in ./.venv/lib/python3.13/site-packages (from fastparquet) (2.9.1)\n",
      "Requirement already satisfied: fsspec in ./.venv/lib/python3.13/site-packages (from fastparquet) (2025.3.0)\n",
      "Requirement already satisfied: six>=1.5 in ./.venv/lib/python3.13/site-packages (from python-dateutil>=2.8.2->pandas) (1.17.0)\n",
      "\n",
      "\u001b[1m[\u001b[0m\u001b[34;49mnotice\u001b[0m\u001b[1;39;49m]\u001b[0m\u001b[39;49m A new release of pip is available: \u001b[0m\u001b[31;49m24.3.1\u001b[0m\u001b[39;49m -> \u001b[0m\u001b[32;49m25.0.1\u001b[0m\n",
      "\u001b[1m[\u001b[0m\u001b[34;49mnotice\u001b[0m\u001b[1;39;49m]\u001b[0m\u001b[39;49m To update, run: \u001b[0m\u001b[32;49mpip install --upgrade pip\u001b[0m\n"
     ]
    }
   ],
   "source": [
    "!pip install numpy scipy pandas matplotlib scikit-learn pyarrow fastparquet seaborn "
   ]
  },
  {
   "cell_type": "code",
   "execution_count": 2,
   "metadata": {},
   "outputs": [],
   "source": [
    "# All of your imports here (you may need to add some)\n",
    "import numpy as np\n",
    "import scipy as sp\n",
    "import pandas as pd\n",
    "import matplotlib.pylab as plt\n",
    "import seaborn as sns\n",
    "import pyarrow as pa\n",
    "import fastparquet as fp\n",
    "from sklearn.model_selection import train_test_split\n",
    "from sklearn.linear_model import LinearRegression\n",
    "import glob\n",
    "import os\n"
   ]
  },
  {
   "cell_type": "code",
   "execution_count": 3,
   "metadata": {},
   "outputs": [],
   "source": [
    "def read_csv(file_path):\n",
    "    \"\"\"Reads a CSV file and returns its content as a Pandas DataFrame.\"\"\"\n",
    "    try:\n",
    "        df = pd.read_csv(file_path)\n",
    "        return df\n",
    "    except FileNotFoundError:\n",
    "        print(f\"Error: The file '{file_path}' was not found.\")\n",
    "    except Exception as e:\n",
    "        print(f\"An error occurred: {e}\")\n",
    "    \n",
    "    return None\n",
    "\n",
    "def label_delay(minutes):\n",
    "    if minutes < 15:\n",
    "        pass\n",
    "    elif 15 <= minutes < 60:\n",
    "        return 'Minor'\n",
    "    elif 60 <= minutes < 180:\n",
    "        return 'Medium'\n",
    "    elif minutes >= 180:\n",
    "        return 'Major'\n",
    "    \n",
    "def download_weather_data(start_date, end_date, airport_code):\n",
    "    \"\"\"\n",
    "    Downloads the weather data from open-meteo.com for the given airport.\n",
    "    \n",
    "    Parameters:\n",
    "        start_date (str): Start date in 'YYYY-MM-DD' format.\n",
    "        end_date (str): End date in 'YYYY-MM-DD' format.\n",
    "        airport_code (str): The IATA code of the airport.\n",
    "    \n",
    "    Returns:\n",
    "        pd.DataFrame: A DataFrame containing the downloaded weather data.\n",
    "    \"\"\"\n",
    "    # Define airport coordinates\n",
    "    airport_coordinates = {\n",
    "        'ATL': (33.6407, -84.4277),\n",
    "        'ORD': (41.9786, -87.9048),\n",
    "        'DFW': (32.8969, -97.0381),\n",
    "        'DEN': (39.8561, -104.6737),\n",
    "        'CLT': (35.2144, -80.9431),\n",
    "        'LAX': (33.9425, -118.4072),\n",
    "        'SEA': (47.4502, -122.3088),\n",
    "        'IAH': (29.9902, -95.3368),\n",
    "        'LGA': (40.7769, -73.8740),\n",
    "        'LAS': (36.0804, -115.1523),\n",
    "        'PHX': (33.4342, -112.0116),\n",
    "        'SFO': (37.6189, -122.3750),\n",
    "        'MCO': (28.4312, -81.3081),\n",
    "        'EWR': (40.6895, -74.1745),\n",
    "        'MIA': (25.7933, -80.2906),\n",
    "        'BOS': (42.3656, -71.0096),\n",
    "        'MSP': (44.8810, -93.2041),\n",
    "        'DTW': (42.2124, -83.3534),\n",
    "        'PHL': (39.8729, -75.2437),\n",
    "        'JFK': (40.6413, -73.7781),\n",
    "        'SLC': (40.7856, -111.9807),\n",
    "        'FLL': (26.0722, -80.1528),\n",
    "        'SAN': (32.7336, -117.1897),\n",
    "        'BWI': (39.1754, -76.6684),\n",
    "        'DCA': (38.8521, -77.0377),\n",
    "        'MDW': (41.7868, -87.7522),\n",
    "        'TPA': (27.9756, -82.5333),\n",
    "        'HNL': (21.3243, -157.9251),\n",
    "        'PDX': (45.5887, -122.5975),\n",
    "        'STL': (38.7472, -90.3594),\n",
    "        'HOU': (29.6454, -95.2789),\n",
    "        'DAL': (32.8471, -96.8518),\n",
    "        'BNA': (36.1263, -86.6774),\n",
    "        'AUS': (30.2026, -97.6653),\n",
    "        'OAK': (37.7214, -122.2208),\n",
    "        'MSY': (29.9934, -90.2580),\n",
    "        'SMF': (38.6958, -121.5908),\n",
    "        'SAT': (29.5337, -98.4698),\n",
    "        'CLE': (41.4057, -81.8520),\n",
    "        'RDU': (35.8776, -78.7875),\n",
    "        'IND': (39.7173, -86.2944),\n",
    "        'MCI': (39.2976, -94.7139),\n",
    "        'SJC': (37.3626, -121.9290),\n",
    "        'PIT': (40.4915, -80.2328),\n",
    "        'CVG': (39.0495, -84.6688),\n",
    "        'CMH': (39.9980, -82.8919),\n",
    "        'OGG': (20.8986, -156.4305),\n",
    "        'ANC': (61.1743, -149.9982),\n",
    "        'SJU': (18.4394, -66.0018),\n",
    "        'BUF': (42.9406, -78.7322),\n",
    "        'OMA': (41.3032, -95.8942),\n",
    "        'OKC': (35.3931, -97.6009),\n",
    "        'TUS': (32.1161, -110.9411),\n",
    "        'ABQ': (35.0494, -106.6253),\n",
    "        'BOI': (43.5704, -116.2228),\n",
    "        'TUL': (36.1984, -95.8883),\n",
    "        'ROC': (43.1286, -77.6656),\n",
    "        'GRR': (42.8808, -85.5222),\n",
    "        'ELP': (31.7983, -106.3773),\n",
    "        'ICT': (37.6493, -97.4339) # Will add more if needed\n",
    "    }\n",
    "\n",
    "    if airport_code not in airport_coordinates:\n",
    "        raise ValueError(f\"Airport code {airport_code} not found in predefined list.\")\n",
    "\n",
    "    lat, lon = airport_coordinates[airport_code]\n",
    "\n",
    "    url = f\"https://archive-api.open-meteo.com/v1/archive?latitude={lat}&longitude={lon}&start_date={start_date}&end_date={end_date}&hourly=temperature_2m,relative_humidity_2m,apparent_temperature,precipitation,rain,snowfall,snow_depth,weather_code,cloud_cover,wind_speed_10m&timezone=America%2FChicago&format=csv\"\n",
    "\n",
    "    weather_data = pd.read_csv(url, skiprows=2, parse_dates=['time'])\n",
    "\n",
    "    # Add airport identifier\n",
    "    weather_data['airport_code'] = airport_code\n",
    "\n",
    "    return weather_data"
   ]
  },
  {
   "cell_type": "markdown",
   "metadata": {},
   "source": [
    "# Frame problem, get data, explore"
   ]
  },
  {
   "cell_type": "markdown",
   "metadata": {},
   "source": [
    "# Combing all the files into one for each year\n"
   ]
  },
  {
   "cell_type": "code",
   "execution_count": 4,
   "metadata": {},
   "outputs": [
    {
     "name": "stdout",
     "output_type": "stream",
     "text": [
      "The file '2023_combined_data.parquet' already exists. Skipping file creation.\n"
     ]
    }
   ],
   "source": [
    "if os.path.exists('2023_combined_data.parquet'):\n",
    "    print(\"The file '2023_combined_data.parquet' already exists. Skipping file creation.\")\n",
    "else:\n",
    "    #Read in all the CSV files in the 2023_Data folder\n",
    "    file_paths = glob.glob('2023_Data/*.csv')\n",
    "\n",
    "    # Combine all the data into a single DataFrame\n",
    "    data_frames = [pd.read_csv(file_path) for file_path in file_paths]\n",
    "    combined_df = pd.concat(data_frames, ignore_index=True)\n",
    "\n",
    "    #saving the combined data to a parquet file\n",
    "    combined_df.to_parquet('2023_combined_data.parquet')\n"
   ]
  },
  {
   "cell_type": "code",
   "execution_count": 5,
   "metadata": {},
   "outputs": [
    {
     "name": "stdout",
     "output_type": "stream",
     "text": [
      "The file '2024_combined_data.parquet' already exists. Skipping file creation.\n"
     ]
    }
   ],
   "source": [
    "if os.path.exists('2024_combined_data.parquet'):\n",
    "    print(\"The file '2024_combined_data.parquet' already exists. Skipping file creation.\")\n",
    "else:\n",
    "    #Read in all the CSV files in the 2023_Data folder\n",
    "    file_paths = glob.glob('2024_Data/*.csv')\n",
    "\n",
    "    # Combine all the data into a single DataFrame\n",
    "    data_frames = [pd.read_csv(file_path) for file_path in file_paths]\n",
    "    combined_df = pd.concat(data_frames, ignore_index=True)\n",
    "\n",
    "    #saving the combined data to a parquet file\n",
    "    combined_df.to_parquet('2024_combined_data.parquet')"
   ]
  },
  {
   "cell_type": "code",
   "execution_count": 5,
   "metadata": {},
   "outputs": [
    {
     "name": "stdout",
     "output_type": "stream",
     "text": [
      "The file 'combined_data.parquet' already exists. Skipping file creation.\n"
     ]
    }
   ],
   "source": [
    "if os.path.exists('combined_data.parquet'):\n",
    "    print(\"The file 'combined_data.parquet' already exists. Skipping file creation.\")\n",
    "else:\n",
    "    # Read the parquet files\n",
    "    data_2023 = pd.read_parquet('2023_combined_data.parquet')\n",
    "    data_2024 = pd.read_parquet('2024_combined_data.parquet')\n",
    "    combined_data = pd.concat([data_2023, data_2024], ignore_index=True)\n",
    "\n",
    "    # Save the combined data to a new parquet file\n",
    "    combined_data.to_parquet('combined_data.parquet')\n",
    "\n",
    "    # Shape and preview\n",
    "    print(combined_data.shape)\n",
    "    combined_data.head()\n"
   ]
  },
  {
   "cell_type": "code",
   "execution_count": 6,
   "metadata": {},
   "outputs": [],
   "source": [
    "data = pd.read_parquet('combined_data.parquet')\n"
   ]
  },
  {
   "cell_type": "code",
   "execution_count": 7,
   "metadata": {},
   "outputs": [
    {
     "name": "stdout",
     "output_type": "stream",
     "text": [
      "The file 'cleaned_data.parquet' already exists. Skipping data cleaning.\n"
     ]
    }
   ],
   "source": [
    "# #dropping Diverted data\n",
    "if os.path.exists('cleaned_data.parquet'):\n",
    "    print(\"The file 'cleaned_data.parquet' already exists. Skipping data cleaning.\")\n",
    "    X = pd.read_parquet('cleaned_data.parquet')\n",
    "else:\n",
    "# Import the Parquet file\n",
    "    train = pd.read_parquet('combined_data.parquet')\n",
    "\n",
    "    # List of columns to remove\n",
    "    columns_to_keep = [\n",
    "    'Year',\n",
    "    'Quarter',\n",
    "    'Month',\n",
    "    'DayofMonth',\n",
    "    'DayOfWeek',\n",
    "    'FlightDate', \n",
    "    'Origin', \n",
    "    'DepDelayMinutes', \n",
    "    'CancellationCode',\n",
    "    'CarrierDelay', \n",
    "    'WeatherDelay', \n",
    "    'NASDelay', \n",
    "    'SecurityDelay',\n",
    "    'LateAircraftDelay'\n",
    "]\n",
    "\n",
    "\n",
    "    # Drop the specified columns\n",
    "    \n",
    "    X = train[columns_to_keep]\n",
    "\n",
    "\n",
    "    # Save the cleaned DataFrame to a new Parquet file\n",
    "    X.to_parquet('cleaned_data.parquet')\n",
    "\n",
    "    # Shape and preview\n",
    "    print(X.shape)  # Check new shape\n",
    "    print(X.dtypes)  # Check data types\n"
   ]
  },
  {
   "cell_type": "code",
   "execution_count": 14,
   "metadata": {},
   "outputs": [
    {
     "data": {
      "application/vnd.microsoft.datawrangler.viewer.v0+json": {
       "columns": [
        {
         "name": "index",
         "rawType": "int64",
         "type": "integer"
        },
        {
         "name": "Year",
         "rawType": "int64",
         "type": "integer"
        },
        {
         "name": "Quarter",
         "rawType": "int64",
         "type": "integer"
        },
        {
         "name": "Month",
         "rawType": "int64",
         "type": "integer"
        },
        {
         "name": "DayofMonth",
         "rawType": "int64",
         "type": "integer"
        },
        {
         "name": "DayOfWeek",
         "rawType": "int64",
         "type": "integer"
        },
        {
         "name": "FlightDate",
         "rawType": "object",
         "type": "string"
        },
        {
         "name": "Origin",
         "rawType": "object",
         "type": "string"
        },
        {
         "name": "DepDelayMinutes",
         "rawType": "float64",
         "type": "float"
        },
        {
         "name": "CancellationCode",
         "rawType": "object",
         "type": "unknown"
        },
        {
         "name": "CarrierDelay",
         "rawType": "float64",
         "type": "float"
        },
        {
         "name": "WeatherDelay",
         "rawType": "float64",
         "type": "float"
        },
        {
         "name": "NASDelay",
         "rawType": "float64",
         "type": "float"
        },
        {
         "name": "SecurityDelay",
         "rawType": "float64",
         "type": "float"
        },
        {
         "name": "LateAircraftDelay",
         "rawType": "float64",
         "type": "float"
        }
       ],
       "conversionMethod": "pd.DataFrame",
       "ref": "c4ecddb6-83e0-4a96-af5b-3ba11a0e5dde",
       "rows": [
        [
         "0",
         "2023",
         "3",
         "9",
         "24",
         "7",
         "2023-09-24",
         "MCO",
         "0.0",
         null,
         null,
         null,
         null,
         null,
         null
        ],
        [
         "1",
         "2023",
         "3",
         "9",
         "24",
         "7",
         "2023-09-24",
         "LGA",
         "14.0",
         null,
         null,
         null,
         null,
         null,
         null
        ],
        [
         "2",
         "2023",
         "3",
         "9",
         "24",
         "7",
         "2023-09-24",
         "FLL",
         "67.0",
         null,
         "66.0",
         "0.0",
         "0.0",
         "0.0",
         "0.0"
        ],
        [
         "3",
         "2023",
         "3",
         "9",
         "24",
         "7",
         "2023-09-24",
         "FLL",
         "0.0",
         null,
         null,
         null,
         null,
         null,
         null
        ],
        [
         "4",
         "2023",
         "3",
         "9",
         "24",
         "7",
         "2023-09-24",
         "SFO",
         "15.0",
         null,
         null,
         null,
         null,
         null,
         null
        ]
       ],
       "shape": {
        "columns": 14,
        "rows": 5
       }
      },
      "text/html": [
       "<div>\n",
       "<style scoped>\n",
       "    .dataframe tbody tr th:only-of-type {\n",
       "        vertical-align: middle;\n",
       "    }\n",
       "\n",
       "    .dataframe tbody tr th {\n",
       "        vertical-align: top;\n",
       "    }\n",
       "\n",
       "    .dataframe thead th {\n",
       "        text-align: right;\n",
       "    }\n",
       "</style>\n",
       "<table border=\"1\" class=\"dataframe\">\n",
       "  <thead>\n",
       "    <tr style=\"text-align: right;\">\n",
       "      <th></th>\n",
       "      <th>Year</th>\n",
       "      <th>Quarter</th>\n",
       "      <th>Month</th>\n",
       "      <th>DayofMonth</th>\n",
       "      <th>DayOfWeek</th>\n",
       "      <th>FlightDate</th>\n",
       "      <th>Origin</th>\n",
       "      <th>DepDelayMinutes</th>\n",
       "      <th>CancellationCode</th>\n",
       "      <th>CarrierDelay</th>\n",
       "      <th>WeatherDelay</th>\n",
       "      <th>NASDelay</th>\n",
       "      <th>SecurityDelay</th>\n",
       "      <th>LateAircraftDelay</th>\n",
       "    </tr>\n",
       "  </thead>\n",
       "  <tbody>\n",
       "    <tr>\n",
       "      <th>0</th>\n",
       "      <td>2023</td>\n",
       "      <td>3</td>\n",
       "      <td>9</td>\n",
       "      <td>24</td>\n",
       "      <td>7</td>\n",
       "      <td>2023-09-24</td>\n",
       "      <td>MCO</td>\n",
       "      <td>0.0</td>\n",
       "      <td>None</td>\n",
       "      <td>NaN</td>\n",
       "      <td>NaN</td>\n",
       "      <td>NaN</td>\n",
       "      <td>NaN</td>\n",
       "      <td>NaN</td>\n",
       "    </tr>\n",
       "    <tr>\n",
       "      <th>1</th>\n",
       "      <td>2023</td>\n",
       "      <td>3</td>\n",
       "      <td>9</td>\n",
       "      <td>24</td>\n",
       "      <td>7</td>\n",
       "      <td>2023-09-24</td>\n",
       "      <td>LGA</td>\n",
       "      <td>14.0</td>\n",
       "      <td>None</td>\n",
       "      <td>NaN</td>\n",
       "      <td>NaN</td>\n",
       "      <td>NaN</td>\n",
       "      <td>NaN</td>\n",
       "      <td>NaN</td>\n",
       "    </tr>\n",
       "    <tr>\n",
       "      <th>2</th>\n",
       "      <td>2023</td>\n",
       "      <td>3</td>\n",
       "      <td>9</td>\n",
       "      <td>24</td>\n",
       "      <td>7</td>\n",
       "      <td>2023-09-24</td>\n",
       "      <td>FLL</td>\n",
       "      <td>67.0</td>\n",
       "      <td>None</td>\n",
       "      <td>66.0</td>\n",
       "      <td>0.0</td>\n",
       "      <td>0.0</td>\n",
       "      <td>0.0</td>\n",
       "      <td>0.0</td>\n",
       "    </tr>\n",
       "    <tr>\n",
       "      <th>3</th>\n",
       "      <td>2023</td>\n",
       "      <td>3</td>\n",
       "      <td>9</td>\n",
       "      <td>24</td>\n",
       "      <td>7</td>\n",
       "      <td>2023-09-24</td>\n",
       "      <td>FLL</td>\n",
       "      <td>0.0</td>\n",
       "      <td>None</td>\n",
       "      <td>NaN</td>\n",
       "      <td>NaN</td>\n",
       "      <td>NaN</td>\n",
       "      <td>NaN</td>\n",
       "      <td>NaN</td>\n",
       "    </tr>\n",
       "    <tr>\n",
       "      <th>4</th>\n",
       "      <td>2023</td>\n",
       "      <td>3</td>\n",
       "      <td>9</td>\n",
       "      <td>24</td>\n",
       "      <td>7</td>\n",
       "      <td>2023-09-24</td>\n",
       "      <td>SFO</td>\n",
       "      <td>15.0</td>\n",
       "      <td>None</td>\n",
       "      <td>NaN</td>\n",
       "      <td>NaN</td>\n",
       "      <td>NaN</td>\n",
       "      <td>NaN</td>\n",
       "      <td>NaN</td>\n",
       "    </tr>\n",
       "  </tbody>\n",
       "</table>\n",
       "</div>"
      ],
      "text/plain": [
       "   Year  Quarter  Month  DayofMonth  DayOfWeek  FlightDate Origin  \\\n",
       "0  2023        3      9          24          7  2023-09-24    MCO   \n",
       "1  2023        3      9          24          7  2023-09-24    LGA   \n",
       "2  2023        3      9          24          7  2023-09-24    FLL   \n",
       "3  2023        3      9          24          7  2023-09-24    FLL   \n",
       "4  2023        3      9          24          7  2023-09-24    SFO   \n",
       "\n",
       "   DepDelayMinutes CancellationCode  CarrierDelay  WeatherDelay  NASDelay  \\\n",
       "0              0.0             None           NaN           NaN       NaN   \n",
       "1             14.0             None           NaN           NaN       NaN   \n",
       "2             67.0             None          66.0           0.0       0.0   \n",
       "3              0.0             None           NaN           NaN       NaN   \n",
       "4             15.0             None           NaN           NaN       NaN   \n",
       "\n",
       "   SecurityDelay  LateAircraftDelay  \n",
       "0            NaN                NaN  \n",
       "1            NaN                NaN  \n",
       "2            0.0                0.0  \n",
       "3            NaN                NaN  \n",
       "4            NaN                NaN  "
      ]
     },
     "execution_count": 14,
     "metadata": {},
     "output_type": "execute_result"
    }
   ],
   "source": [
    "#print the cleaned data\n",
    "X.head()\n"
   ]
  },
  {
   "cell_type": "markdown",
   "metadata": {},
   "source": [
    "# Maybe Linear Regression"
   ]
  },
  {
   "cell_type": "markdown",
   "metadata": {},
   "source": [
    "* Things to ignore in data, diverted, international destination or arrival (only USA to USA)"
   ]
  },
  {
   "cell_type": "code",
   "execution_count": 8,
   "metadata": {},
   "outputs": [
    {
     "data": {
      "application/vnd.microsoft.datawrangler.viewer.v0+json": {
       "columns": [
        {
         "name": "index",
         "rawType": "int64",
         "type": "integer"
        },
        {
         "name": "Year",
         "rawType": "int64",
         "type": "integer"
        },
        {
         "name": "Quarter",
         "rawType": "int64",
         "type": "integer"
        },
        {
         "name": "Month",
         "rawType": "int64",
         "type": "integer"
        },
        {
         "name": "DayofMonth",
         "rawType": "int64",
         "type": "integer"
        },
        {
         "name": "DayOfWeek",
         "rawType": "int64",
         "type": "integer"
        },
        {
         "name": "FlightDate",
         "rawType": "object",
         "type": "string"
        },
        {
         "name": "Origin",
         "rawType": "object",
         "type": "string"
        },
        {
         "name": "DepDelayMinutes",
         "rawType": "float64",
         "type": "float"
        },
        {
         "name": "CancellationCode",
         "rawType": "object",
         "type": "unknown"
        },
        {
         "name": "CarrierDelay",
         "rawType": "float64",
         "type": "float"
        },
        {
         "name": "WeatherDelay",
         "rawType": "float64",
         "type": "float"
        },
        {
         "name": "NASDelay",
         "rawType": "float64",
         "type": "float"
        },
        {
         "name": "SecurityDelay",
         "rawType": "float64",
         "type": "float"
        },
        {
         "name": "LateAircraftDelay",
         "rawType": "float64",
         "type": "float"
        },
        {
         "name": "DelayCategory",
         "rawType": "object",
         "type": "unknown"
        }
       ],
       "conversionMethod": "pd.DataFrame",
       "ref": "a499fd79-5769-4c83-909c-854943ac182e",
       "rows": [
        [
         "12567694",
         "2024",
         "4",
         "11",
         "17",
         "7",
         "2024-11-17",
         "HPN",
         "0.0",
         null,
         null,
         null,
         null,
         null,
         null,
         null
        ],
        [
         "5200611",
         "2023",
         "2",
         "4",
         "26",
         "3",
         "2023-04-26",
         "DAL",
         "147.0",
         null,
         "34.0",
         "0.0",
         "33.0",
         "0.0",
         "113.0",
         "Medium"
        ],
        [
         "4422418",
         "2023",
         "3",
         "7",
         "2",
         "7",
         "2023-07-02",
         "SFO",
         "3.0",
         null,
         null,
         null,
         null,
         null,
         null,
         null
        ],
        [
         "10361752",
         "2024",
         "1",
         "2",
         "4",
         "7",
         "2024-02-04",
         "MSP",
         "0.0",
         null,
         null,
         null,
         null,
         null,
         null,
         null
        ],
        [
         "11577393",
         "2024",
         "1",
         "3",
         "15",
         "5",
         "2024-03-15",
         "SAN",
         "0.0",
         null,
         null,
         null,
         null,
         null,
         null,
         null
        ],
        [
         "653488",
         "2023",
         "4",
         "11",
         "21",
         "2",
         "2023-11-21",
         "ELP",
         "19.0",
         null,
         null,
         null,
         null,
         null,
         null,
         "Minor"
        ],
        [
         "2818923",
         "2023",
         "3",
         "8",
         "15",
         "2",
         "2023-08-15",
         "CAE",
         "11.0",
         null,
         null,
         null,
         null,
         null,
         null,
         null
        ],
        [
         "14315539",
         "2024",
         "2",
         "4",
         "1",
         "1",
         "2024-04-01",
         "ORD",
         "5.0",
         null,
         "0.0",
         "5.0",
         "13.0",
         "0.0",
         "0.0",
         null
        ],
        [
         "5771162",
         "2023",
         "1",
         "2",
         "16",
         "4",
         "2023-02-16",
         "DEN",
         "5.0",
         null,
         null,
         null,
         null,
         null,
         null,
         null
        ],
        [
         "14202508",
         "2024",
         "4",
         "10",
         "26",
         "6",
         "2024-10-26",
         "ATL",
         "0.0",
         null,
         null,
         null,
         null,
         null,
         null,
         null
        ],
        [
         "13216192",
         "2024",
         "2",
         "5",
         "24",
         "5",
         "2024-05-24",
         "ORD",
         "165.0",
         null,
         "12.0",
         "0.0",
         "0.0",
         "0.0",
         "143.0",
         "Medium"
        ],
        [
         "297417",
         "2023",
         "3",
         "9",
         "17",
         "7",
         "2023-09-17",
         "SJU",
         "0.0",
         null,
         "0.0",
         "0.0",
         "20.0",
         "0.0",
         "0.0",
         null
        ],
        [
         "12498906",
         "2024",
         "4",
         "11",
         "29",
         "5",
         "2024-11-29",
         "ORD",
         "17.0",
         null,
         null,
         null,
         null,
         null,
         null,
         "Minor"
        ],
        [
         "11291186",
         "2024",
         "1",
         "3",
         "14",
         "4",
         "2024-03-14",
         "HNL",
         "3.0",
         null,
         null,
         null,
         null,
         null,
         null,
         null
        ],
        [
         "13048366",
         "2024",
         "2",
         "5",
         "17",
         "5",
         "2024-05-17",
         "BNA",
         "0.0",
         null,
         null,
         null,
         null,
         null,
         null,
         null
        ]
       ],
       "shape": {
        "columns": 15,
        "rows": 15
       }
      },
      "text/html": [
       "<div>\n",
       "<style scoped>\n",
       "    .dataframe tbody tr th:only-of-type {\n",
       "        vertical-align: middle;\n",
       "    }\n",
       "\n",
       "    .dataframe tbody tr th {\n",
       "        vertical-align: top;\n",
       "    }\n",
       "\n",
       "    .dataframe thead th {\n",
       "        text-align: right;\n",
       "    }\n",
       "</style>\n",
       "<table border=\"1\" class=\"dataframe\">\n",
       "  <thead>\n",
       "    <tr style=\"text-align: right;\">\n",
       "      <th></th>\n",
       "      <th>Year</th>\n",
       "      <th>Quarter</th>\n",
       "      <th>Month</th>\n",
       "      <th>DayofMonth</th>\n",
       "      <th>DayOfWeek</th>\n",
       "      <th>FlightDate</th>\n",
       "      <th>Origin</th>\n",
       "      <th>DepDelayMinutes</th>\n",
       "      <th>CancellationCode</th>\n",
       "      <th>CarrierDelay</th>\n",
       "      <th>WeatherDelay</th>\n",
       "      <th>NASDelay</th>\n",
       "      <th>SecurityDelay</th>\n",
       "      <th>LateAircraftDelay</th>\n",
       "      <th>DelayCategory</th>\n",
       "    </tr>\n",
       "  </thead>\n",
       "  <tbody>\n",
       "    <tr>\n",
       "      <th>12567694</th>\n",
       "      <td>2024</td>\n",
       "      <td>4</td>\n",
       "      <td>11</td>\n",
       "      <td>17</td>\n",
       "      <td>7</td>\n",
       "      <td>2024-11-17</td>\n",
       "      <td>HPN</td>\n",
       "      <td>0.0</td>\n",
       "      <td>None</td>\n",
       "      <td>NaN</td>\n",
       "      <td>NaN</td>\n",
       "      <td>NaN</td>\n",
       "      <td>NaN</td>\n",
       "      <td>NaN</td>\n",
       "      <td>None</td>\n",
       "    </tr>\n",
       "    <tr>\n",
       "      <th>5200611</th>\n",
       "      <td>2023</td>\n",
       "      <td>2</td>\n",
       "      <td>4</td>\n",
       "      <td>26</td>\n",
       "      <td>3</td>\n",
       "      <td>2023-04-26</td>\n",
       "      <td>DAL</td>\n",
       "      <td>147.0</td>\n",
       "      <td>None</td>\n",
       "      <td>34.0</td>\n",
       "      <td>0.0</td>\n",
       "      <td>33.0</td>\n",
       "      <td>0.0</td>\n",
       "      <td>113.0</td>\n",
       "      <td>Medium</td>\n",
       "    </tr>\n",
       "    <tr>\n",
       "      <th>4422418</th>\n",
       "      <td>2023</td>\n",
       "      <td>3</td>\n",
       "      <td>7</td>\n",
       "      <td>2</td>\n",
       "      <td>7</td>\n",
       "      <td>2023-07-02</td>\n",
       "      <td>SFO</td>\n",
       "      <td>3.0</td>\n",
       "      <td>None</td>\n",
       "      <td>NaN</td>\n",
       "      <td>NaN</td>\n",
       "      <td>NaN</td>\n",
       "      <td>NaN</td>\n",
       "      <td>NaN</td>\n",
       "      <td>None</td>\n",
       "    </tr>\n",
       "    <tr>\n",
       "      <th>10361752</th>\n",
       "      <td>2024</td>\n",
       "      <td>1</td>\n",
       "      <td>2</td>\n",
       "      <td>4</td>\n",
       "      <td>7</td>\n",
       "      <td>2024-02-04</td>\n",
       "      <td>MSP</td>\n",
       "      <td>0.0</td>\n",
       "      <td>None</td>\n",
       "      <td>NaN</td>\n",
       "      <td>NaN</td>\n",
       "      <td>NaN</td>\n",
       "      <td>NaN</td>\n",
       "      <td>NaN</td>\n",
       "      <td>None</td>\n",
       "    </tr>\n",
       "    <tr>\n",
       "      <th>11577393</th>\n",
       "      <td>2024</td>\n",
       "      <td>1</td>\n",
       "      <td>3</td>\n",
       "      <td>15</td>\n",
       "      <td>5</td>\n",
       "      <td>2024-03-15</td>\n",
       "      <td>SAN</td>\n",
       "      <td>0.0</td>\n",
       "      <td>None</td>\n",
       "      <td>NaN</td>\n",
       "      <td>NaN</td>\n",
       "      <td>NaN</td>\n",
       "      <td>NaN</td>\n",
       "      <td>NaN</td>\n",
       "      <td>None</td>\n",
       "    </tr>\n",
       "    <tr>\n",
       "      <th>653488</th>\n",
       "      <td>2023</td>\n",
       "      <td>4</td>\n",
       "      <td>11</td>\n",
       "      <td>21</td>\n",
       "      <td>2</td>\n",
       "      <td>2023-11-21</td>\n",
       "      <td>ELP</td>\n",
       "      <td>19.0</td>\n",
       "      <td>None</td>\n",
       "      <td>NaN</td>\n",
       "      <td>NaN</td>\n",
       "      <td>NaN</td>\n",
       "      <td>NaN</td>\n",
       "      <td>NaN</td>\n",
       "      <td>Minor</td>\n",
       "    </tr>\n",
       "    <tr>\n",
       "      <th>2818923</th>\n",
       "      <td>2023</td>\n",
       "      <td>3</td>\n",
       "      <td>8</td>\n",
       "      <td>15</td>\n",
       "      <td>2</td>\n",
       "      <td>2023-08-15</td>\n",
       "      <td>CAE</td>\n",
       "      <td>11.0</td>\n",
       "      <td>None</td>\n",
       "      <td>NaN</td>\n",
       "      <td>NaN</td>\n",
       "      <td>NaN</td>\n",
       "      <td>NaN</td>\n",
       "      <td>NaN</td>\n",
       "      <td>None</td>\n",
       "    </tr>\n",
       "    <tr>\n",
       "      <th>14315539</th>\n",
       "      <td>2024</td>\n",
       "      <td>2</td>\n",
       "      <td>4</td>\n",
       "      <td>1</td>\n",
       "      <td>1</td>\n",
       "      <td>2024-04-01</td>\n",
       "      <td>ORD</td>\n",
       "      <td>5.0</td>\n",
       "      <td>None</td>\n",
       "      <td>0.0</td>\n",
       "      <td>5.0</td>\n",
       "      <td>13.0</td>\n",
       "      <td>0.0</td>\n",
       "      <td>0.0</td>\n",
       "      <td>None</td>\n",
       "    </tr>\n",
       "    <tr>\n",
       "      <th>5771162</th>\n",
       "      <td>2023</td>\n",
       "      <td>1</td>\n",
       "      <td>2</td>\n",
       "      <td>16</td>\n",
       "      <td>4</td>\n",
       "      <td>2023-02-16</td>\n",
       "      <td>DEN</td>\n",
       "      <td>5.0</td>\n",
       "      <td>None</td>\n",
       "      <td>NaN</td>\n",
       "      <td>NaN</td>\n",
       "      <td>NaN</td>\n",
       "      <td>NaN</td>\n",
       "      <td>NaN</td>\n",
       "      <td>None</td>\n",
       "    </tr>\n",
       "    <tr>\n",
       "      <th>14202508</th>\n",
       "      <td>2024</td>\n",
       "      <td>4</td>\n",
       "      <td>10</td>\n",
       "      <td>26</td>\n",
       "      <td>6</td>\n",
       "      <td>2024-10-26</td>\n",
       "      <td>ATL</td>\n",
       "      <td>0.0</td>\n",
       "      <td>None</td>\n",
       "      <td>NaN</td>\n",
       "      <td>NaN</td>\n",
       "      <td>NaN</td>\n",
       "      <td>NaN</td>\n",
       "      <td>NaN</td>\n",
       "      <td>None</td>\n",
       "    </tr>\n",
       "    <tr>\n",
       "      <th>13216192</th>\n",
       "      <td>2024</td>\n",
       "      <td>2</td>\n",
       "      <td>5</td>\n",
       "      <td>24</td>\n",
       "      <td>5</td>\n",
       "      <td>2024-05-24</td>\n",
       "      <td>ORD</td>\n",
       "      <td>165.0</td>\n",
       "      <td>None</td>\n",
       "      <td>12.0</td>\n",
       "      <td>0.0</td>\n",
       "      <td>0.0</td>\n",
       "      <td>0.0</td>\n",
       "      <td>143.0</td>\n",
       "      <td>Medium</td>\n",
       "    </tr>\n",
       "    <tr>\n",
       "      <th>297417</th>\n",
       "      <td>2023</td>\n",
       "      <td>3</td>\n",
       "      <td>9</td>\n",
       "      <td>17</td>\n",
       "      <td>7</td>\n",
       "      <td>2023-09-17</td>\n",
       "      <td>SJU</td>\n",
       "      <td>0.0</td>\n",
       "      <td>None</td>\n",
       "      <td>0.0</td>\n",
       "      <td>0.0</td>\n",
       "      <td>20.0</td>\n",
       "      <td>0.0</td>\n",
       "      <td>0.0</td>\n",
       "      <td>None</td>\n",
       "    </tr>\n",
       "    <tr>\n",
       "      <th>12498906</th>\n",
       "      <td>2024</td>\n",
       "      <td>4</td>\n",
       "      <td>11</td>\n",
       "      <td>29</td>\n",
       "      <td>5</td>\n",
       "      <td>2024-11-29</td>\n",
       "      <td>ORD</td>\n",
       "      <td>17.0</td>\n",
       "      <td>None</td>\n",
       "      <td>NaN</td>\n",
       "      <td>NaN</td>\n",
       "      <td>NaN</td>\n",
       "      <td>NaN</td>\n",
       "      <td>NaN</td>\n",
       "      <td>Minor</td>\n",
       "    </tr>\n",
       "    <tr>\n",
       "      <th>11291186</th>\n",
       "      <td>2024</td>\n",
       "      <td>1</td>\n",
       "      <td>3</td>\n",
       "      <td>14</td>\n",
       "      <td>4</td>\n",
       "      <td>2024-03-14</td>\n",
       "      <td>HNL</td>\n",
       "      <td>3.0</td>\n",
       "      <td>None</td>\n",
       "      <td>NaN</td>\n",
       "      <td>NaN</td>\n",
       "      <td>NaN</td>\n",
       "      <td>NaN</td>\n",
       "      <td>NaN</td>\n",
       "      <td>None</td>\n",
       "    </tr>\n",
       "    <tr>\n",
       "      <th>13048366</th>\n",
       "      <td>2024</td>\n",
       "      <td>2</td>\n",
       "      <td>5</td>\n",
       "      <td>17</td>\n",
       "      <td>5</td>\n",
       "      <td>2024-05-17</td>\n",
       "      <td>BNA</td>\n",
       "      <td>0.0</td>\n",
       "      <td>None</td>\n",
       "      <td>NaN</td>\n",
       "      <td>NaN</td>\n",
       "      <td>NaN</td>\n",
       "      <td>NaN</td>\n",
       "      <td>NaN</td>\n",
       "      <td>None</td>\n",
       "    </tr>\n",
       "  </tbody>\n",
       "</table>\n",
       "</div>"
      ],
      "text/plain": [
       "          Year  Quarter  Month  DayofMonth  DayOfWeek  FlightDate Origin  \\\n",
       "12567694  2024        4     11          17          7  2024-11-17    HPN   \n",
       "5200611   2023        2      4          26          3  2023-04-26    DAL   \n",
       "4422418   2023        3      7           2          7  2023-07-02    SFO   \n",
       "10361752  2024        1      2           4          7  2024-02-04    MSP   \n",
       "11577393  2024        1      3          15          5  2024-03-15    SAN   \n",
       "653488    2023        4     11          21          2  2023-11-21    ELP   \n",
       "2818923   2023        3      8          15          2  2023-08-15    CAE   \n",
       "14315539  2024        2      4           1          1  2024-04-01    ORD   \n",
       "5771162   2023        1      2          16          4  2023-02-16    DEN   \n",
       "14202508  2024        4     10          26          6  2024-10-26    ATL   \n",
       "13216192  2024        2      5          24          5  2024-05-24    ORD   \n",
       "297417    2023        3      9          17          7  2023-09-17    SJU   \n",
       "12498906  2024        4     11          29          5  2024-11-29    ORD   \n",
       "11291186  2024        1      3          14          4  2024-03-14    HNL   \n",
       "13048366  2024        2      5          17          5  2024-05-17    BNA   \n",
       "\n",
       "          DepDelayMinutes CancellationCode  CarrierDelay  WeatherDelay  \\\n",
       "12567694              0.0             None           NaN           NaN   \n",
       "5200611             147.0             None          34.0           0.0   \n",
       "4422418               3.0             None           NaN           NaN   \n",
       "10361752              0.0             None           NaN           NaN   \n",
       "11577393              0.0             None           NaN           NaN   \n",
       "653488               19.0             None           NaN           NaN   \n",
       "2818923              11.0             None           NaN           NaN   \n",
       "14315539              5.0             None           0.0           5.0   \n",
       "5771162               5.0             None           NaN           NaN   \n",
       "14202508              0.0             None           NaN           NaN   \n",
       "13216192            165.0             None          12.0           0.0   \n",
       "297417                0.0             None           0.0           0.0   \n",
       "12498906             17.0             None           NaN           NaN   \n",
       "11291186              3.0             None           NaN           NaN   \n",
       "13048366              0.0             None           NaN           NaN   \n",
       "\n",
       "          NASDelay  SecurityDelay  LateAircraftDelay DelayCategory  \n",
       "12567694       NaN            NaN                NaN          None  \n",
       "5200611       33.0            0.0              113.0        Medium  \n",
       "4422418        NaN            NaN                NaN          None  \n",
       "10361752       NaN            NaN                NaN          None  \n",
       "11577393       NaN            NaN                NaN          None  \n",
       "653488         NaN            NaN                NaN         Minor  \n",
       "2818923        NaN            NaN                NaN          None  \n",
       "14315539      13.0            0.0                0.0          None  \n",
       "5771162        NaN            NaN                NaN          None  \n",
       "14202508       NaN            NaN                NaN          None  \n",
       "13216192       0.0            0.0              143.0        Medium  \n",
       "297417        20.0            0.0                0.0          None  \n",
       "12498906       NaN            NaN                NaN         Minor  \n",
       "11291186       NaN            NaN                NaN          None  \n",
       "13048366       NaN            NaN                NaN          None  "
      ]
     },
     "execution_count": 8,
     "metadata": {},
     "output_type": "execute_result"
    }
   ],
   "source": [
    "train_set = pd.read_parquet('cleaned_data.parquet')\n",
    "train_sample = train_set.sample(n=1000, random_state=42) # Will need a larger sample size to see more delays\n",
    "train_sample['DelayCategory'] = train_sample['DepDelayMinutes'].apply(label_delay)\n",
    "\n",
    "X = train_sample.copy()\n",
    "\n",
    "train_sample.head(15)"
   ]
  },
  {
   "cell_type": "code",
   "execution_count": null,
   "metadata": {},
   "outputs": [
    {
     "data": {
      "image/png": "[encoded data removed]",
      "text/plain": [
       "<Figure size 800x600 with 1 Axes>"
      ]
     },
     "metadata": {},
     "output_type": "display_data"
    }
   ],
   "source": [
    "# Count the occurrences of each DelayCategory\n",
    "delay_counts = train_sample['DelayCategory'].value_counts()\n",
    "\n",
    "# Plot the bar graph\n",
    "plt.figure(figsize=(8, 6))\n",
    "delay_counts.plot(kind='bar', color='skyblue', edgecolor='black')\n",
    "plt.title('Distribution of Delay Categories', fontsize=16)\n",
    "plt.xlabel('Delay Category', fontsize=14)\n",
    "plt.ylabel('Count', fontsize=14)\n",
    "plt.xticks(rotation=45)\n",
    "plt.grid(axis='y', linestyle='--', alpha=0.7)\n",
    "plt.show()"
   ]
  },
  {
   "cell_type": "code",
   "execution_count": null,
   "metadata": {},
   "outputs": [
    {
     "data": {
      "image/png": "[encoded data removed]",
      "text/plain": [
       "<Figure size 1200x800 with 1 Axes>"
      ]
     },
     "metadata": {},
     "output_type": "display_data"
    }
   ],
   "source": [
    "# Count the occurrences of each DelayCategory during each year\n",
    "delay_counts = train_sample.groupby(['Year', 'DelayCategory']).size().unstack()\n",
    "# Create a histogram for the delay counts by year\n",
    "delay_counts.plot(kind='bar', stacked=True, figsize=(12, 8), color=['skyblue', 'salmon', 'mediumseagreen'])\n",
    "plt.title('Distribution of Delay Categories by Year', fontsize=16)\n",
    "plt.xlabel('Year', fontsize=14)\n",
    "plt.ylabel('Count', fontsize=14)\n",
    "plt.xticks(rotation=0)\n",
    "plt.grid(axis='y', linestyle='--', alpha=0.7)\n",
    "plt.legend(title='Delay Category')\n",
    "plt.show()\n",
    "\n"
   ]
  },
  {
   "cell_type": "code",
   "execution_count": null,
   "metadata": {},
   "outputs": [
    {
     "data": {
      "image/png": "[encoded data removed]",
      "text/plain": [
       "<Figure size 1200x600 with 1 Axes>"
      ]
     },
     "metadata": {},
     "output_type": "display_data"
    }
   ],
   "source": [
    "# Count the occurrences of each DelayCategory during each month\n",
    "delay_counts_by_month = train_sample_filtered.groupby(['Month', 'DelayCategory']).size()\n",
    "# Create a histogram for the delay counts by month\n",
    "delay_counts_by_month.unstack().plot(kind='bar', stacked=True, figsize=(12, 6), color=['skyblue', 'orange', 'green', 'red'])\n",
    "plt.title('Delay Categories by Month', fontsize=16)\n",
    "plt.xlabel('Month', fontsize=14)\n",
    "plt.ylabel('Count', fontsize=14)\n",
    "plt.xticks(rotation=0)\n",
    "plt.legend(title='Delay Category', fontsize=12)\n",
    "plt.grid(axis='y', linestyle='--', alpha=0.7)\n",
    "plt.show()"
   ]
  },
  {
   "cell_type": "code",
   "execution_count": null,
   "metadata": {},
   "outputs": [
    {
     "data": {
      "image/png": "[encoded data removed]",
      "text/plain": [
       "<Figure size 1200x600 with 1 Axes>"
      ]
     },
     "metadata": {},
     "output_type": "display_data"
    }
   ],
   "source": [
    "# Create a graph to show the distribution of delays by day of week\n",
    "delay_counts_by_day = train_sample_filtered.groupby(['DayOfWeek', 'DelayCategory']).size()\n",
    "# Create a histogram for the delay counts by day of week\n",
    "delay_counts_by_day.unstack().plot(kind='bar', stacked=True, figsize=(12, 6), color=['skyblue', 'orange', 'green', 'red'])\n",
    "plt.title('Delay Categories by Day of Week', fontsize=16)\n",
    "plt.xlabel('Day of Week', fontsize=14)\n",
    "plt.ylabel('Count', fontsize=14)\n",
    "plt.xticks(rotation=0)\n",
    "plt.legend(title='Delay Category', fontsize=12)\n",
    "plt.grid(axis='y', linestyle='--', alpha=0.7)\n",
    "plt.show()\n",
    "\n",
    "\n",
    "############## RENAME 1-7 TO MON-SUN ####################"
   ]
  },
  {
   "cell_type": "code",
   "execution_count": null,
   "metadata": {},
   "outputs": [
    {
     "data": {
      "image/png": "[encoded data removed]",
      "text/plain": [
       "<Figure size 1200x600 with 1 Axes>"
      ]
     },
     "metadata": {},
     "output_type": "display_data"
    }
   ],
   "source": [
    "# Create a graph that shows the distribution of delays by the Origin\n",
    "delay_counts_by_origin = train_sample_filtered.groupby(['Origin', 'DelayCategory']).size()\n",
    "# Create a histogram for the delay counts by Origin\n",
    "delay_counts_by_origin.unstack().plot(kind='bar', stacked=True, figsize=(12, 6), color=['skyblue', 'orange', 'green', 'red'])\n",
    "plt.title('Delay Categories by Origin', fontsize=16)\n",
    "plt.xlabel('Origin', fontsize=14)\n",
    "plt.ylabel('Count', fontsize=14)\n",
    "plt.xticks(rotation=90, fontsize=10)\n",
    "plt.legend(title='Delay Category', fontsize=12)\n",
    "plt.grid(axis='y', linestyle='--', alpha=0.7)\n",
    "plt.show()\n"
   ]
  },
  {
   "cell_type": "code",
   "execution_count": null,
   "metadata": {},
   "outputs": [
    {
     "data": {
      "text/plain": [
       "CancellationCode\n",
       "B    11\n",
       "A     6\n",
       "C     1\n",
       "Name: count, dtype: int64"
      ]
     },
     "execution_count": 27,
     "metadata": {},
     "output_type": "execute_result"
    }
   ],
   "source": [
    "train_sample['CancellationCode'].value_counts()"
   ]
  },
  {
   "cell_type": "code",
   "execution_count": null,
   "metadata": {},
   "outputs": [
    {
     "data": {
      "image/png": "[encoded data removed]",
      "text/plain": [
       "<Figure size 800x600 with 1 Axes>"
      ]
     },
     "metadata": {},
     "output_type": "display_data"
    }
   ],
   "source": [
    "# Graph of cancellation reasons\n",
    "cancellation_counts = train_sample['CancellationCode'].value_counts()\n",
    "cancellation_counts.plot(kind='bar', figsize=(8, 6), color='skyblue', edgecolor='black')\n",
    "plt.title('Cancellation Reasons', fontsize=16)\n",
    "plt.xlabel('Reason', fontsize=14)\n",
    "plt.ylabel('Count', fontsize=14)\n",
    "plt.xticks(rotation=0)\n",
    "plt.grid(axis='y', linestyle='--', alpha=.7)\n",
    "plt.show()"
   ]
  },
  {
   "cell_type": "code",
   "execution_count": null,
   "metadata": {},
   "outputs": [
    {
     "data": {
      "image/png": "[encoded data removed]",
      "text/plain": [
       "<Figure size 1200x600 with 1 Axes>"
      ]
     },
     "metadata": {},
     "output_type": "display_data"
    }
   ],
   "source": [
    "# Graph of cancellations by month\n",
    "cancellations_by_month = train_sample.groupby(['Month', 'CancellationCode']).size()\n",
    "cancellations_by_month.unstack().plot(kind='bar', stacked=True, figsize=(12, 6), color=['skyblue', 'orange', 'green', 'red'])\n",
    "plt.title('Cancellations by Month', fontsize=16)\n",
    "plt.xlabel('Month', fontsize=14)\n",
    "plt.ylabel('Count', fontsize=14)\n",
    "plt.xticks(rotation=0)\n",
    "plt.legend(title='Cancellation Reason', fontsize=12)\n",
    "plt.grid(axis='y', linestyle='--', alpha=.7)\n",
    "plt.show()\n",
    "\n",
    "# A\tCarrier\n",
    "# B\tWeather\n",
    "# C\tNational Air System\n",
    "# D\tSecurity\n"
   ]
  },
  {
   "cell_type": "code",
   "execution_count": null,
   "metadata": {},
   "outputs": [
    {
     "data": {
      "image/png": "[encoded data removed]",
      "text/plain": [
       "<Figure size 800x600 with 1 Axes>"
      ]
     },
     "metadata": {},
     "output_type": "display_data"
    }
   ],
   "source": [
    "# Graph of count of CarrierDelay WeatherDelay, NASDelay, SecurityDelay, and LateAircraftDelay\n",
    "delay_columns = ['CarrierDelay', 'WeatherDelay', 'NASDelay', 'SecurityDelay', 'LateAircraftDelay']\n",
    "delay_counts = train_sample[delay_columns].apply(lambda x: x > 0).sum()\n",
    "delay_counts.plot(kind='bar', figsize=(8, 6), color='skyblue', edgecolor='black')\n",
    "plt.title('Count of Delays by Type', fontsize=16)\n",
    "plt.xlabel('Delay Type', fontsize=14)\n",
    "plt.ylabel('Count', fontsize=14)\n",
    "plt.xticks(rotation=0)\n",
    "plt.grid(axis='y', linestyle='--', alpha=.7)\n",
    "plt.show()\n"
   ]
  },
  {
   "cell_type": "code",
   "execution_count": null,
   "metadata": {},
   "outputs": [
    {
     "data": {
      "image/png": "[encoded data removed]",
      "text/plain": [
       "<Figure size 1200x600 with 1 Axes>"
      ]
     },
     "metadata": {},
     "output_type": "display_data"
    }
   ],
   "source": [
    "# Convert delay values into boolean (True if > 0, else False), then sum to count occurrences\n",
    "delay_counts_by_month = train_sample[delay_columns].gt(0).groupby(train_sample['Month']).sum()\n",
    "\n",
    "# Plot the stacked bar chart\n",
    "delay_counts_by_month.plot(kind='bar', stacked=True, figsize=(12, 6),\n",
    "                           color=['skyblue', 'orange', 'green', 'red', 'purple'])\n",
    "\n",
    "plt.title('Delays by Type and Month', fontsize=16)\n",
    "plt.xlabel('Month', fontsize=14)\n",
    "plt.ylabel('Count', fontsize=14)\n",
    "plt.xticks(rotation=0)  # Ensure months are displayed correctly\n",
    "plt.legend(title='Delay Type', fontsize=12)\n",
    "plt.grid(axis='y', linestyle='--', alpha=.7)\n",
    "plt.show()\n"
   ]
  },
  {
   "cell_type": "code",
   "execution_count": null,
   "metadata": {},
   "outputs": [
    {
     "data": {
      "image/png": "[encoded data removed]",
      "text/plain": [
       "<Figure size 1200x600 with 1 Axes>"
      ]
     },
     "metadata": {},
     "output_type": "display_data"
    }
   ],
   "source": [
    "# give me the top 10 airports with the most delays and make a graph\n",
    "top_10_airports = train_sample['Origin'].value_counts().head(10)\n",
    "top_10_airports.plot(kind='bar', figsize=(12, 6), color='skyblue', edgecolor='black')\n",
    "plt.title('Top 10 Airports with the Most Delays', fontsize=16)\n",
    "plt.xlabel('Airport', fontsize=14)\n",
    "plt.ylabel('Count', fontsize=14)\n",
    "plt.xticks(rotation=45)\n",
    "plt.grid(axis='y', linestyle='--', alpha=.7)\n",
    "plt.show()"
   ]
  },
  {
   "cell_type": "code",
   "execution_count": 9,
   "metadata": {},
   "outputs": [
    {
     "data": {
      "application/vnd.microsoft.datawrangler.viewer.v0+json": {
       "columns": [
        {
         "name": "index",
         "rawType": "int64",
         "type": "integer"
        },
        {
         "name": "Year",
         "rawType": "int64",
         "type": "integer"
        },
        {
         "name": "Quarter",
         "rawType": "int64",
         "type": "integer"
        },
        {
         "name": "Month",
         "rawType": "int64",
         "type": "integer"
        },
        {
         "name": "DayofMonth",
         "rawType": "int64",
         "type": "integer"
        },
        {
         "name": "DayOfWeek",
         "rawType": "int64",
         "type": "integer"
        },
        {
         "name": "FlightDate",
         "rawType": "object",
         "type": "string"
        },
        {
         "name": "Origin",
         "rawType": "object",
         "type": "string"
        },
        {
         "name": "DepDelayMinutes",
         "rawType": "float64",
         "type": "float"
        },
        {
         "name": "CancellationCode",
         "rawType": "object",
         "type": "unknown"
        },
        {
         "name": "CarrierDelay",
         "rawType": "float64",
         "type": "float"
        },
        {
         "name": "WeatherDelay",
         "rawType": "float64",
         "type": "float"
        },
        {
         "name": "NASDelay",
         "rawType": "float64",
         "type": "float"
        },
        {
         "name": "SecurityDelay",
         "rawType": "float64",
         "type": "float"
        },
        {
         "name": "LateAircraftDelay",
         "rawType": "float64",
         "type": "float"
        },
        {
         "name": "TargetValue",
         "rawType": "object",
         "type": "unknown"
        }
       ],
       "conversionMethod": "pd.DataFrame",
       "ref": "6dc8398a-0c38-4dea-bfa1-17468a151d76",
       "rows": [
        [
         "12567694",
         "2024",
         "4",
         "11",
         "17",
         "7",
         "2024-11-17",
         "HPN",
         "0.0",
         null,
         null,
         null,
         null,
         null,
         null,
         null
        ],
        [
         "5200611",
         "2023",
         "2",
         "4",
         "26",
         "3",
         "2023-04-26",
         "DAL",
         "147.0",
         null,
         "34.0",
         "0.0",
         "33.0",
         "0.0",
         "113.0",
         "Medium"
        ],
        [
         "4422418",
         "2023",
         "3",
         "7",
         "2",
         "7",
         "2023-07-02",
         "SFO",
         "3.0",
         null,
         null,
         null,
         null,
         null,
         null,
         null
        ],
        [
         "10361752",
         "2024",
         "1",
         "2",
         "4",
         "7",
         "2024-02-04",
         "MSP",
         "0.0",
         null,
         null,
         null,
         null,
         null,
         null,
         null
        ],
        [
         "11577393",
         "2024",
         "1",
         "3",
         "15",
         "5",
         "2024-03-15",
         "SAN",
         "0.0",
         null,
         null,
         null,
         null,
         null,
         null,
         null
        ]
       ],
       "shape": {
        "columns": 15,
        "rows": 5
       }
      },
      "text/html": [
       "<div>\n",
       "<style scoped>\n",
       "    .dataframe tbody tr th:only-of-type {\n",
       "        vertical-align: middle;\n",
       "    }\n",
       "\n",
       "    .dataframe tbody tr th {\n",
       "        vertical-align: top;\n",
       "    }\n",
       "\n",
       "    .dataframe thead th {\n",
       "        text-align: right;\n",
       "    }\n",
       "</style>\n",
       "<table border=\"1\" class=\"dataframe\">\n",
       "  <thead>\n",
       "    <tr style=\"text-align: right;\">\n",
       "      <th></th>\n",
       "      <th>Year</th>\n",
       "      <th>Quarter</th>\n",
       "      <th>Month</th>\n",
       "      <th>DayofMonth</th>\n",
       "      <th>DayOfWeek</th>\n",
       "      <th>FlightDate</th>\n",
       "      <th>Origin</th>\n",
       "      <th>DepDelayMinutes</th>\n",
       "      <th>CancellationCode</th>\n",
       "      <th>CarrierDelay</th>\n",
       "      <th>WeatherDelay</th>\n",
       "      <th>NASDelay</th>\n",
       "      <th>SecurityDelay</th>\n",
       "      <th>LateAircraftDelay</th>\n",
       "      <th>TargetValue</th>\n",
       "    </tr>\n",
       "  </thead>\n",
       "  <tbody>\n",
       "    <tr>\n",
       "      <th>12567694</th>\n",
       "      <td>2024</td>\n",
       "      <td>4</td>\n",
       "      <td>11</td>\n",
       "      <td>17</td>\n",
       "      <td>7</td>\n",
       "      <td>2024-11-17</td>\n",
       "      <td>HPN</td>\n",
       "      <td>0.0</td>\n",
       "      <td>None</td>\n",
       "      <td>NaN</td>\n",
       "      <td>NaN</td>\n",
       "      <td>NaN</td>\n",
       "      <td>NaN</td>\n",
       "      <td>NaN</td>\n",
       "      <td>None</td>\n",
       "    </tr>\n",
       "    <tr>\n",
       "      <th>5200611</th>\n",
       "      <td>2023</td>\n",
       "      <td>2</td>\n",
       "      <td>4</td>\n",
       "      <td>26</td>\n",
       "      <td>3</td>\n",
       "      <td>2023-04-26</td>\n",
       "      <td>DAL</td>\n",
       "      <td>147.0</td>\n",
       "      <td>None</td>\n",
       "      <td>34.0</td>\n",
       "      <td>0.0</td>\n",
       "      <td>33.0</td>\n",
       "      <td>0.0</td>\n",
       "      <td>113.0</td>\n",
       "      <td>Medium</td>\n",
       "    </tr>\n",
       "    <tr>\n",
       "      <th>4422418</th>\n",
       "      <td>2023</td>\n",
       "      <td>3</td>\n",
       "      <td>7</td>\n",
       "      <td>2</td>\n",
       "      <td>7</td>\n",
       "      <td>2023-07-02</td>\n",
       "      <td>SFO</td>\n",
       "      <td>3.0</td>\n",
       "      <td>None</td>\n",
       "      <td>NaN</td>\n",
       "      <td>NaN</td>\n",
       "      <td>NaN</td>\n",
       "      <td>NaN</td>\n",
       "      <td>NaN</td>\n",
       "      <td>None</td>\n",
       "    </tr>\n",
       "    <tr>\n",
       "      <th>10361752</th>\n",
       "      <td>2024</td>\n",
       "      <td>1</td>\n",
       "      <td>2</td>\n",
       "      <td>4</td>\n",
       "      <td>7</td>\n",
       "      <td>2024-02-04</td>\n",
       "      <td>MSP</td>\n",
       "      <td>0.0</td>\n",
       "      <td>None</td>\n",
       "      <td>NaN</td>\n",
       "      <td>NaN</td>\n",
       "      <td>NaN</td>\n",
       "      <td>NaN</td>\n",
       "      <td>NaN</td>\n",
       "      <td>None</td>\n",
       "    </tr>\n",
       "    <tr>\n",
       "      <th>11577393</th>\n",
       "      <td>2024</td>\n",
       "      <td>1</td>\n",
       "      <td>3</td>\n",
       "      <td>15</td>\n",
       "      <td>5</td>\n",
       "      <td>2024-03-15</td>\n",
       "      <td>SAN</td>\n",
       "      <td>0.0</td>\n",
       "      <td>None</td>\n",
       "      <td>NaN</td>\n",
       "      <td>NaN</td>\n",
       "      <td>NaN</td>\n",
       "      <td>NaN</td>\n",
       "      <td>NaN</td>\n",
       "      <td>None</td>\n",
       "    </tr>\n",
       "  </tbody>\n",
       "</table>\n",
       "</div>"
      ],
      "text/plain": [
       "          Year  Quarter  Month  DayofMonth  DayOfWeek  FlightDate Origin  \\\n",
       "12567694  2024        4     11          17          7  2024-11-17    HPN   \n",
       "5200611   2023        2      4          26          3  2023-04-26    DAL   \n",
       "4422418   2023        3      7           2          7  2023-07-02    SFO   \n",
       "10361752  2024        1      2           4          7  2024-02-04    MSP   \n",
       "11577393  2024        1      3          15          5  2024-03-15    SAN   \n",
       "\n",
       "          DepDelayMinutes CancellationCode  CarrierDelay  WeatherDelay  \\\n",
       "12567694              0.0             None           NaN           NaN   \n",
       "5200611             147.0             None          34.0           0.0   \n",
       "4422418               3.0             None           NaN           NaN   \n",
       "10361752              0.0             None           NaN           NaN   \n",
       "11577393              0.0             None           NaN           NaN   \n",
       "\n",
       "          NASDelay  SecurityDelay  LateAircraftDelay TargetValue  \n",
       "12567694       NaN            NaN                NaN        None  \n",
       "5200611       33.0            0.0              113.0      Medium  \n",
       "4422418        NaN            NaN                NaN        None  \n",
       "10361752       NaN            NaN                NaN        None  \n",
       "11577393       NaN            NaN                NaN        None  "
      ]
     },
     "execution_count": 9,
     "metadata": {},
     "output_type": "execute_result"
    }
   ],
   "source": [
    "train_sample = train_sample.rename(columns={'DelayCategory': 'TargetValue'})\n",
    "train_sample.head()"
   ]
  },
  {
   "cell_type": "code",
   "execution_count": null,
   "metadata": {},
   "outputs": [
    {
     "data": {
      "application/vnd.microsoft.datawrangler.viewer.v0+json": {
       "columns": [
        {
         "name": "index",
         "rawType": "int64",
         "type": "integer"
        },
        {
         "name": "Date",
         "rawType": "object",
         "type": "unknown"
        },
        {
         "name": "Airport",
         "rawType": "object",
         "type": "string"
        },
        {
         "name": "Precipitation",
         "rawType": "float64",
         "type": "float"
        }
       ],
       "conversionMethod": "pd.DataFrame",
       "ref": "2637e970-14c2-4a21-8763-c8c0ffe0d23f",
       "rows": [
        [
         "0",
         "2023-01-01",
         "ATL",
         "0.5"
        ],
        [
         "1",
         "2023-01-01",
         "CLT",
         "0.0"
        ],
        [
         "2",
         "2023-01-01",
         "DEN",
         "0.1"
        ],
        [
         "3",
         "2023-01-01",
         "DFW",
         "0.0"
        ],
        [
         "4",
         "2023-01-01",
         "IAH",
         "0.7000000000000001"
        ],
        [
         "5",
         "2023-01-01",
         "LAS",
         "13.0"
        ],
        [
         "6",
         "2023-01-01",
         "LAX",
         "12.9"
        ],
        [
         "7",
         "2023-01-01",
         "LGA",
         "1.5"
        ],
        [
         "8",
         "2023-01-01",
         "ORD",
         "1.6"
        ],
        [
         "9",
         "2023-01-01",
         "SEA",
         "0.2"
        ],
        [
         "10",
         "2023-01-02",
         "ATL",
         "2.4"
        ],
        [
         "11",
         "2023-01-02",
         "CLT",
         "0.0"
        ],
        [
         "12",
         "2023-01-02",
         "DEN",
         "3.5"
        ],
        [
         "13",
         "2023-01-02",
         "DFW",
         "6.5"
        ],
        [
         "14",
         "2023-01-02",
         "IAH",
         "45.4"
        ],
        [
         "15",
         "2023-01-02",
         "LAS",
         "0.0"
        ],
        [
         "16",
         "2023-01-02",
         "LAX",
         "2.0"
        ],
        [
         "17",
         "2023-01-02",
         "LGA",
         "0.7000000000000001"
        ],
        [
         "18",
         "2023-01-02",
         "ORD",
         "0.2"
        ],
        [
         "19",
         "2023-01-02",
         "SEA",
         "0.0"
        ],
        [
         "20",
         "2023-01-03",
         "ATL",
         "8.3"
        ],
        [
         "21",
         "2023-01-03",
         "CLT",
         "17.0"
        ],
        [
         "22",
         "2023-01-03",
         "DEN",
         "0.5"
        ],
        [
         "23",
         "2023-01-03",
         "DFW",
         "0.0"
        ],
        [
         "24",
         "2023-01-03",
         "IAH",
         "9.7"
        ],
        [
         "25",
         "2023-01-03",
         "LAS",
         "0.2"
        ],
        [
         "26",
         "2023-01-03",
         "LAX",
         "11.8"
        ],
        [
         "27",
         "2023-01-03",
         "LGA",
         "12.2"
        ],
        [
         "28",
         "2023-01-03",
         "ORD",
         "13.8"
        ],
        [
         "29",
         "2023-01-03",
         "SEA",
         "1.4000000000000001"
        ],
        [
         "30",
         "2023-01-04",
         "ATL",
         "12.4"
        ],
        [
         "31",
         "2023-01-04",
         "CLT",
         "38.7"
        ],
        [
         "32",
         "2023-01-04",
         "DEN",
         "0.0"
        ],
        [
         "33",
         "2023-01-04",
         "DFW",
         "0.0"
        ],
        [
         "34",
         "2023-01-04",
         "IAH",
         "0.0"
        ],
        [
         "35",
         "2023-01-04",
         "LAS",
         "0.4"
        ],
        [
         "36",
         "2023-01-04",
         "LAX",
         "9.5"
        ],
        [
         "37",
         "2023-01-04",
         "LGA",
         "2.4"
        ],
        [
         "38",
         "2023-01-04",
         "ORD",
         "0.0"
        ],
        [
         "39",
         "2023-01-04",
         "SEA",
         "1.4"
        ],
        [
         "40",
         "2023-01-05",
         "ATL",
         "0.0"
        ],
        [
         "41",
         "2023-01-05",
         "CLT",
         "0.0"
        ],
        [
         "42",
         "2023-01-05",
         "DEN",
         "0.0"
        ],
        [
         "43",
         "2023-01-05",
         "DFW",
         "0.0"
        ],
        [
         "44",
         "2023-01-05",
         "IAH",
         "0.0"
        ],
        [
         "45",
         "2023-01-05",
         "LAS",
         "8.7"
        ],
        [
         "46",
         "2023-01-05",
         "LAX",
         "28.9"
        ],
        [
         "47",
         "2023-01-05",
         "LGA",
         "0.0"
        ],
        [
         "48",
         "2023-01-05",
         "ORD",
         "1.4"
        ],
        [
         "49",
         "2023-01-05",
         "SEA",
         "2.0"
        ]
       ],
       "shape": {
        "columns": 3,
        "rows": 7310
       }
      },
      "text/html": [
       "<div>\n",
       "<style scoped>\n",
       "    .dataframe tbody tr th:only-of-type {\n",
       "        vertical-align: middle;\n",
       "    }\n",
       "\n",
       "    .dataframe tbody tr th {\n",
       "        vertical-align: top;\n",
       "    }\n",
       "\n",
       "    .dataframe thead th {\n",
       "        text-align: right;\n",
       "    }\n",
       "</style>\n",
       "<table border=\"1\" class=\"dataframe\">\n",
       "  <thead>\n",
       "    <tr style=\"text-align: right;\">\n",
       "      <th></th>\n",
       "      <th>Date</th>\n",
       "      <th>Airport</th>\n",
       "      <th>Precipitation</th>\n",
       "    </tr>\n",
       "  </thead>\n",
       "  <tbody>\n",
       "    <tr>\n",
       "      <th>0</th>\n",
       "      <td>2023-01-01</td>\n",
       "      <td>ATL</td>\n",
       "      <td>0.5</td>\n",
       "    </tr>\n",
       "    <tr>\n",
       "      <th>1</th>\n",
       "      <td>2023-01-01</td>\n",
       "      <td>CLT</td>\n",
       "      <td>0.0</td>\n",
       "    </tr>\n",
       "    <tr>\n",
       "      <th>2</th>\n",
       "      <td>2023-01-01</td>\n",
       "      <td>DEN</td>\n",
       "      <td>0.1</td>\n",
       "    </tr>\n",
       "    <tr>\n",
       "      <th>3</th>\n",
       "      <td>2023-01-01</td>\n",
       "      <td>DFW</td>\n",
       "      <td>0.0</td>\n",
       "    </tr>\n",
       "    <tr>\n",
       "      <th>4</th>\n",
       "      <td>2023-01-01</td>\n",
       "      <td>IAH</td>\n",
       "      <td>0.7</td>\n",
       "    </tr>\n",
       "    <tr>\n",
       "      <th>...</th>\n",
       "      <td>...</td>\n",
       "      <td>...</td>\n",
       "      <td>...</td>\n",
       "    </tr>\n",
       "    <tr>\n",
       "      <th>7305</th>\n",
       "      <td>2024-12-31</td>\n",
       "      <td>LAS</td>\n",
       "      <td>0.0</td>\n",
       "    </tr>\n",
       "    <tr>\n",
       "      <th>7306</th>\n",
       "      <td>2024-12-31</td>\n",
       "      <td>LAX</td>\n",
       "      <td>0.0</td>\n",
       "    </tr>\n",
       "    <tr>\n",
       "      <th>7307</th>\n",
       "      <td>2024-12-31</td>\n",
       "      <td>LGA</td>\n",
       "      <td>7.3</td>\n",
       "    </tr>\n",
       "    <tr>\n",
       "      <th>7308</th>\n",
       "      <td>2024-12-31</td>\n",
       "      <td>ORD</td>\n",
       "      <td>8.0</td>\n",
       "    </tr>\n",
       "    <tr>\n",
       "      <th>7309</th>\n",
       "      <td>2024-12-31</td>\n",
       "      <td>SEA</td>\n",
       "      <td>0.2</td>\n",
       "    </tr>\n",
       "  </tbody>\n",
       "</table>\n",
       "<p>7310 rows × 3 columns</p>\n",
       "</div>"
      ],
      "text/plain": [
       "            Date Airport  Precipitation\n",
       "0     2023-01-01     ATL            0.5\n",
       "1     2023-01-01     CLT            0.0\n",
       "2     2023-01-01     DEN            0.1\n",
       "3     2023-01-01     DFW            0.0\n",
       "4     2023-01-01     IAH            0.7\n",
       "...          ...     ...            ...\n",
       "7305  2024-12-31     LAS            0.0\n",
       "7306  2024-12-31     LAX            0.0\n",
       "7307  2024-12-31     LGA            7.3\n",
       "7308  2024-12-31     ORD            8.0\n",
       "7309  2024-12-31     SEA            0.2\n",
       "\n",
       "[7310 rows x 3 columns]"
      ]
     },
     "execution_count": 11,
     "metadata": {},
     "output_type": "execute_result"
    }
   ],
   "source": [
    "# Get the top 10 airports\n",
    "top_10_airports = train_sample['Origin'].value_counts().head(10).index\n",
    "\n",
    "# Download weather data for each airport and combine into a single DataFrame\n",
    "if os.path.exists('weather_data.csv'):\n",
    "    print(\"The file 'weather_data.csv' already exists. Skipping weather data download.\")\n",
    "else:\n",
    "    # Download weather data for each airport\n",
    "    weather_data_all = pd.concat([download_weather_data(\"2023-01-01\", \"2024-12-31\", airport) for airport in top_10_airports])\n",
    "\n",
    "# Keep only precipitation data\n",
    "if os.path.exists('weather_data.csv'):\n",
    "    print(\"The file 'weather_data.csv' already exists. Skipping data cleaning.\")\n",
    "else:\n",
    "    weather_data_all = weather_data_all[['time', 'precipitation (mm)', 'airport_code']]\n",
    "\n",
    "# Save to CSV\n",
    "if  os.path.exists('weather_data.csv'):\n",
    "    print(\"The file 'weather_data.csv' already exists. Skipping file creation.\")\n",
    "else:\n",
    "    weather_data_all.to_csv('weather_data.csv', index=False)\n",
    "\n",
    "# Rename columns\n",
    "weather_data_all.columns = ['Date', 'Precipitation', 'Airport']\n",
    "\n",
    "# Convert 'date' column to datetime format and remove time\n",
    "weather_data_all[\"Date\"] = pd.to_datetime(weather_data_all[\"Date\"]).dt.date\n",
    "\n",
    "# Group by 'date' and 'airport', summing 'precipitation'\n",
    "weather_data_all = weather_data_all.groupby([\"Date\", \"Airport\"], as_index=False)[\"Precipitation\"].sum()\n",
    "\n",
    "weather_data_all"
   ]
  }
 ],
 "metadata": {
  "kernelspec": {
   "display_name": ".venv",
   "language": "python",
   "name": "python3"
  },
  "language_info": {
   "codemirror_mode": {
    "name": "ipython",
    "version": 3
   },
   "file_extension": ".py",
   "mimetype": "text/x-python",
   "name": "python",
   "nbconvert_exporter": "python",
   "pygments_lexer": "ipython3",
   "version": "3.13.1"
  }
 },
 "nbformat": 4,
 "nbformat_minor": 2
}
